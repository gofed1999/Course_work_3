{
 "cells": [
  {
   "cell_type": "code",
   "execution_count": 149,
   "metadata": {},
   "outputs": [],
   "source": [
    "from selenium import webdriver\n",
    "from selenium.webdriver.common.keys import Keys\n",
    "from selenium.webdriver.support import expected_conditions as EC\n",
    "from selenium.webdriver.common.by import By\n",
    "from selenium.webdriver.support.wait import WebDriverWait\n",
    "from selenium.webdriver.common.action_chains import ActionChains\n",
    "import pandas as pd \n",
    "import time\n",
    "import numpy as np\n",
    "from tqdm.notebook import tqdm, trange\n",
    "import os\n",
    "import wget"
   ]
  },
  {
   "cell_type": "code",
   "execution_count": 121,
   "metadata": {},
   "outputs": [],
   "source": [
    "driver = webdriver.Chrome()\n",
    "\n",
    "driver.get(\"http://www.instagram.com\")\n",
    "\n",
    "username = WebDriverWait(driver, 10).until(EC.element_to_be_clickable((By.CSS_SELECTOR, \"input[name='username']\")))\n",
    "password = WebDriverWait(driver, 10).until(EC.element_to_be_clickable((By.CSS_SELECTOR, \"input[name='password']\")))\n",
    "\n",
    "username.clear()\n",
    "username.send_keys(\"Neighbors_Amanda_25138\")\n",
    "password.clear()\n",
    "password.send_keys(\"def6d3ZYetC\")\n",
    "\n",
    "button = WebDriverWait(driver, 2).until(EC.element_to_be_clickable((By.CSS_SELECTOR, \"button[type='submit']\"))).click()"
   ]
  },
  {
   "cell_type": "code",
   "execution_count": 122,
   "metadata": {},
   "outputs": [],
   "source": [
    "time.sleep(5)\n",
    "alert = WebDriverWait(driver, 15).until(EC.element_to_be_clickable((By.XPATH, '//button[contains(text(), \"Не сейчас\")]'))).click()\n",
    "alert2 = WebDriverWait(driver, 15).until(EC.element_to_be_clickable((By.XPATH, '//button[contains(text(), \"Не сейчас\")]'))).click()"
   ]
  },
  {
   "cell_type": "code",
   "execution_count": 123,
   "metadata": {},
   "outputs": [],
   "source": [
    "searchbox = WebDriverWait(driver, 10).until(EC.element_to_be_clickable((By.XPATH, \"//input[@placeholder='Поиск']\")))\n",
    "searchbox.clear()\n",
    "\n",
    "keyword = \"#cat\"\n",
    "searchbox.send_keys(keyword)\n",
    "\n",
    "#FIXING THE DOUBLE ENTER\n",
    "time.sleep(5) # Wait for 5 seconds\n",
    "my_link = WebDriverWait(driver, 10).until(EC.element_to_be_clickable((By.XPATH, \"//a[contains(@href, '/\" + keyword[1:] + \"/')]\")))\n",
    "my_link.click()"
   ]
  },
  {
   "cell_type": "code",
   "execution_count": 135,
   "metadata": {},
   "outputs": [],
   "source": [
    "def get_amount_of_likes():\n",
    "    try:\n",
    "        likes = driver.execute_script('''return document.getElementsByClassName('Nm9Fw')[0].lastElementChild.getElementsByTagName('span')[0].innerText''')\n",
    "        return likes\n",
    "    except Exception:\n",
    "        return np.nan"
   ]
  },
  {
   "cell_type": "code",
   "execution_count": 136,
   "metadata": {},
   "outputs": [],
   "source": [
    "def get_date():\n",
    "    try:\n",
    "        date = driver.execute_script('''return document.getElementsByClassName('_1o9PC Nzb55')[0].getAttribute('datetime')''')\n",
    "        return date\n",
    "    except Exception:\n",
    "        return np.nan"
   ]
  },
  {
   "cell_type": "code",
   "execution_count": 137,
   "metadata": {},
   "outputs": [],
   "source": [
    "def get_author():\n",
    "    try:\n",
    "        author = driver.execute_script('''return document.getElementsByClassName('C4VMK')[0].getElementsByTagName('span')[0].innerText''')\n",
    "        return author\n",
    "    except Exception:\n",
    "        return np.nan"
   ]
  },
  {
   "cell_type": "code",
   "execution_count": 138,
   "metadata": {},
   "outputs": [],
   "source": [
    "def get_amount_of_subscribers():\n",
    "    try:\n",
    "        element_to_hover_over = driver.find_element_by_class_name(\"e1e1d\")\n",
    "        hover = ActionChains(driver).move_to_element(element_to_hover_over)\n",
    "        hover.perform()\n",
    "        time.sleep(2)\n",
    "        follow = driver.execute_script('''return document.getElementsByClassName('g47SY lOXF2')[1].getAttribute('title')''')\n",
    "        return follow\n",
    "    except Exception:\n",
    "        return np.nan"
   ]
  },
  {
   "cell_type": "code",
   "execution_count": 139,
   "metadata": {},
   "outputs": [],
   "source": [
    "def get_tags():\n",
    "    try:\n",
    "        tags = driver.execute_script('''return document.getElementsByClassName(' xil3i')''')\n",
    "        list = []\n",
    "        for i in range(len(tags)):\n",
    "            tag = driver.execute_script('''return document.getElementsByClassName(' xil3i')[{0}].innerText'''.format(i))\n",
    "            list.append(tag)\n",
    "        return list\n",
    "    except Exception:\n",
    "        return np.nan"
   ]
  },
  {
   "cell_type": "code",
   "execution_count": 85,
   "metadata": {},
   "outputs": [],
   "source": [
    "def check_type():\n",
    "    type = driver.find_element_by_xpath('//meta[@property=\"og:type\"]').get_attribute('content')\n",
    "    if type == 'image':\n",
    "        return True\n",
    "    else:\n",
    "        return False"
   ]
  },
  {
   "cell_type": "code",
   "execution_count": 97,
   "metadata": {},
   "outputs": [],
   "source": [
    "def next_post():\n",
    "    element_to_hover_over = driver.find_element_by_class_name(\"_8-yf5 \")\n",
    "    hover = ActionChains(driver).move_to_element(element_to_hover_over)\n",
    "    hover.perform()\n",
    "    next = driver.find_element_by_class_name(\"coreSpriteRightPaginationArrow\")\n",
    "    next.click()\n",
    "    time.sleep(2)"
   ]
  },
  {
   "cell_type": "code",
   "execution_count": 199,
   "metadata": {},
   "outputs": [],
   "source": [
    "def find_post(ref):\n",
    "    try:\n",
    "        driver.get(str(ref))\n",
    "        time.sleep(1)\n",
    "        img = driver.find_elements_by_tag_name('img')\n",
    "        img = [i.get_attribute('src') for i in img]\n",
    "        return img[1]\n",
    "    except Exception:\n",
    "        return np.nan       "
   ]
  },
  {
   "cell_type": "code",
   "execution_count": null,
   "metadata": {},
   "outputs": [],
   "source": [
    "def save_df():\n",
    "    path_to_saxe_df = os.getcwd()\n",
    "    path_to_saxe_df = os.path.join(path_to_saxe_df, keyword[1:] + \"s.csv\")\n",
    "    df.to_csv(r'{0}'.format(path_to_saxe_df), index = False)"
   ]
  },
  {
   "cell_type": "code",
   "execution_count": 235,
   "metadata": {},
   "outputs": [],
   "source": [
    "path = os.getcwd()\n",
    "path = os.path.join(path, 'data')\n",
    "\n",
    "def save_picture(i):\n",
    "    try:\n",
    "        save_as = os.path.join(path, 'photo' + str(i) + '.jpg')\n",
    "        wget.download(df['Download URL'][i], save_as)\n",
    "    except Exception:\n",
    "        df['Marker'][i] = 1  "
   ]
  },
  {
   "cell_type": "code",
   "execution_count": null,
   "metadata": {},
   "outputs": [],
   "source": [
    "###\n",
    "def save_picture_now(reference):\n",
    "    try:\n",
    "        save_as = os.path.join(path, 'photo' + str(i) + '.jpg')\n",
    "        wget.download(reference, save_as)\n",
    "    except Exception:\n",
    "        df['Marker'][i] = 1 "
   ]
  },
  {
   "cell_type": "code",
   "execution_count": 194,
   "metadata": {},
   "outputs": [
    {
     "name": "stdout",
     "output_type": "stream",
     "text": [
      "https://scontent-arn2-1.cdninstagram.com/v/t51.2885-15/e35/p1080x1080/175511835_271520651338806_5799219358781511657_n.jpg?tp=1&_nc_ht=scontent-arn2-1.cdninstagram.com&_nc_cat=1&_nc_ohc=PUA1wZq69SIAX972u9m&edm=APU89FAAAAAA&ccb=7-4&oh=bdca5168e8602b0a880906cb8f631259&oe=60A2E7A0&_nc_sid=86f79a\n"
     ]
    }
   ],
   "source": [
    "driver.get(str(df['Picture URL'][6]))\n",
    "time.sleep(1)\n",
    "img = driver.find_elements_by_tag_name('img')\n",
    "img = [i.get_attribute('src') for i in img]\n",
    "print(img[1])"
   ]
  },
  {
   "cell_type": "code",
   "execution_count": 248,
   "metadata": {},
   "outputs": [
    {
     "data": {
      "text/html": [
       "<div>\n",
       "<style scoped>\n",
       "    .dataframe tbody tr th:only-of-type {\n",
       "        vertical-align: middle;\n",
       "    }\n",
       "\n",
       "    .dataframe tbody tr th {\n",
       "        vertical-align: top;\n",
       "    }\n",
       "\n",
       "    .dataframe thead th {\n",
       "        text-align: right;\n",
       "    }\n",
       "</style>\n",
       "<table border=\"1\" class=\"dataframe\">\n",
       "  <thead>\n",
       "    <tr style=\"text-align: right;\">\n",
       "      <th></th>\n",
       "      <th>Picture URL</th>\n",
       "      <th>Amount of likes</th>\n",
       "      <th>Author name</th>\n",
       "      <th>Amount of subscribers</th>\n",
       "      <th>Post tags</th>\n",
       "      <th>Post date</th>\n",
       "      <th>Download URL</th>\n",
       "      <th>Marker</th>\n",
       "    </tr>\n",
       "  </thead>\n",
       "  <tbody>\n",
       "  </tbody>\n",
       "</table>\n",
       "</div>"
      ],
      "text/plain": [
       "Empty DataFrame\n",
       "Columns: [Picture URL, Amount of likes, Author name, Amount of subscribers, Post tags, Post date, Download URL, Marker]\n",
       "Index: []"
      ]
     },
     "execution_count": 248,
     "metadata": {},
     "output_type": "execute_result"
    }
   ],
   "source": [
    "df = pd.DataFrame(columns = ['Picture URL' , 'Amount of likes', 'Author name', 'Amount of subscribers', 'Post tags', 'Post date', 'Download URL', 'Marker'])\n",
    "df"
   ]
  },
  {
   "cell_type": "code",
   "execution_count": 250,
   "metadata": {},
   "outputs": [
    {
     "ename": "ElementClickInterceptedException",
     "evalue": "Message: element click intercepted: Element <a class=\" _65Bje  coreSpriteRightPaginationArrow\" tabindex=\"0\">...</a> is not clickable at point (1447, 462). Other element would receive the click: <div class=\"_7Tu5q\"></div>\n  (Session info: chrome=89.0.4389.128)\n",
     "output_type": "error",
     "traceback": [
      "\u001b[1;31m---------------------------------------------------------------------------\u001b[0m",
      "\u001b[1;31mElementClickInterceptedException\u001b[0m          Traceback (most recent call last)",
      "\u001b[1;32m<ipython-input-250-a9d13b93f22c>\u001b[0m in \u001b[0;36m<module>\u001b[1;34m\u001b[0m\n\u001b[0;32m     12\u001b[0m     df = df.append({'Picture URL': URL, 'Amount of likes': likes, 'Author name': name,\n\u001b[0;32m     13\u001b[0m         'Amount of subscribers': subscribers, 'Post tags': tags, 'Post date': date, 'Marker': 0}, ignore_index=True)\n\u001b[1;32m---> 14\u001b[1;33m     \u001b[0mnext_post\u001b[0m\u001b[1;33m(\u001b[0m\u001b[1;33m)\u001b[0m\u001b[1;33m\u001b[0m\u001b[0m\n\u001b[0m\u001b[0;32m     15\u001b[0m \u001b[1;33m\u001b[0m\u001b[0m\n\u001b[0;32m     16\u001b[0m \u001b[0mprint\u001b[0m\u001b[1;33m(\u001b[0m\u001b[1;34m\"--- %s seconds ---\"\u001b[0m \u001b[1;33m%\u001b[0m \u001b[1;33m(\u001b[0m\u001b[0mtime\u001b[0m\u001b[1;33m.\u001b[0m\u001b[0mtime\u001b[0m\u001b[1;33m(\u001b[0m\u001b[1;33m)\u001b[0m \u001b[1;33m-\u001b[0m \u001b[0mstart_time\u001b[0m\u001b[1;33m)\u001b[0m\u001b[1;33m)\u001b[0m\u001b[1;33m\u001b[0m\u001b[0m\n",
      "\u001b[1;32m<ipython-input-97-5af108a400f6>\u001b[0m in \u001b[0;36mnext_post\u001b[1;34m()\u001b[0m\n\u001b[0;32m      4\u001b[0m     \u001b[0mhover\u001b[0m\u001b[1;33m.\u001b[0m\u001b[0mperform\u001b[0m\u001b[1;33m(\u001b[0m\u001b[1;33m)\u001b[0m\u001b[1;33m\u001b[0m\u001b[0m\n\u001b[0;32m      5\u001b[0m     \u001b[0mnext\u001b[0m \u001b[1;33m=\u001b[0m \u001b[0mdriver\u001b[0m\u001b[1;33m.\u001b[0m\u001b[0mfind_element_by_class_name\u001b[0m\u001b[1;33m(\u001b[0m\u001b[1;34m\"coreSpriteRightPaginationArrow\"\u001b[0m\u001b[1;33m)\u001b[0m\u001b[1;33m\u001b[0m\u001b[0m\n\u001b[1;32m----> 6\u001b[1;33m     \u001b[0mnext\u001b[0m\u001b[1;33m.\u001b[0m\u001b[0mclick\u001b[0m\u001b[1;33m(\u001b[0m\u001b[1;33m)\u001b[0m\u001b[1;33m\u001b[0m\u001b[0m\n\u001b[0m\u001b[0;32m      7\u001b[0m     \u001b[0mtime\u001b[0m\u001b[1;33m.\u001b[0m\u001b[0msleep\u001b[0m\u001b[1;33m(\u001b[0m\u001b[1;36m3\u001b[0m\u001b[1;33m)\u001b[0m\u001b[1;33m\u001b[0m\u001b[0m\n",
      "\u001b[1;32mc:\\users\\gafed\\appdata\\local\\programs\\python\\python36\\lib\\site-packages\\selenium\\webdriver\\remote\\webelement.py\u001b[0m in \u001b[0;36mclick\u001b[1;34m(self)\u001b[0m\n\u001b[0;32m     78\u001b[0m     \u001b[1;32mdef\u001b[0m \u001b[0mclick\u001b[0m\u001b[1;33m(\u001b[0m\u001b[0mself\u001b[0m\u001b[1;33m)\u001b[0m\u001b[1;33m:\u001b[0m\u001b[1;33m\u001b[0m\u001b[0m\n\u001b[0;32m     79\u001b[0m         \u001b[1;34m\"\"\"Clicks the element.\"\"\"\u001b[0m\u001b[1;33m\u001b[0m\u001b[0m\n\u001b[1;32m---> 80\u001b[1;33m         \u001b[0mself\u001b[0m\u001b[1;33m.\u001b[0m\u001b[0m_execute\u001b[0m\u001b[1;33m(\u001b[0m\u001b[0mCommand\u001b[0m\u001b[1;33m.\u001b[0m\u001b[0mCLICK_ELEMENT\u001b[0m\u001b[1;33m)\u001b[0m\u001b[1;33m\u001b[0m\u001b[0m\n\u001b[0m\u001b[0;32m     81\u001b[0m \u001b[1;33m\u001b[0m\u001b[0m\n\u001b[0;32m     82\u001b[0m     \u001b[1;32mdef\u001b[0m \u001b[0msubmit\u001b[0m\u001b[1;33m(\u001b[0m\u001b[0mself\u001b[0m\u001b[1;33m)\u001b[0m\u001b[1;33m:\u001b[0m\u001b[1;33m\u001b[0m\u001b[0m\n",
      "\u001b[1;32mc:\\users\\gafed\\appdata\\local\\programs\\python\\python36\\lib\\site-packages\\selenium\\webdriver\\remote\\webelement.py\u001b[0m in \u001b[0;36m_execute\u001b[1;34m(self, command, params)\u001b[0m\n\u001b[0;32m    631\u001b[0m             \u001b[0mparams\u001b[0m \u001b[1;33m=\u001b[0m \u001b[1;33m{\u001b[0m\u001b[1;33m}\u001b[0m\u001b[1;33m\u001b[0m\u001b[0m\n\u001b[0;32m    632\u001b[0m         \u001b[0mparams\u001b[0m\u001b[1;33m[\u001b[0m\u001b[1;34m'id'\u001b[0m\u001b[1;33m]\u001b[0m \u001b[1;33m=\u001b[0m \u001b[0mself\u001b[0m\u001b[1;33m.\u001b[0m\u001b[0m_id\u001b[0m\u001b[1;33m\u001b[0m\u001b[0m\n\u001b[1;32m--> 633\u001b[1;33m         \u001b[1;32mreturn\u001b[0m \u001b[0mself\u001b[0m\u001b[1;33m.\u001b[0m\u001b[0m_parent\u001b[0m\u001b[1;33m.\u001b[0m\u001b[0mexecute\u001b[0m\u001b[1;33m(\u001b[0m\u001b[0mcommand\u001b[0m\u001b[1;33m,\u001b[0m \u001b[0mparams\u001b[0m\u001b[1;33m)\u001b[0m\u001b[1;33m\u001b[0m\u001b[0m\n\u001b[0m\u001b[0;32m    634\u001b[0m \u001b[1;33m\u001b[0m\u001b[0m\n\u001b[0;32m    635\u001b[0m     \u001b[1;32mdef\u001b[0m \u001b[0mfind_element\u001b[0m\u001b[1;33m(\u001b[0m\u001b[0mself\u001b[0m\u001b[1;33m,\u001b[0m \u001b[0mby\u001b[0m\u001b[1;33m=\u001b[0m\u001b[0mBy\u001b[0m\u001b[1;33m.\u001b[0m\u001b[0mID\u001b[0m\u001b[1;33m,\u001b[0m \u001b[0mvalue\u001b[0m\u001b[1;33m=\u001b[0m\u001b[1;32mNone\u001b[0m\u001b[1;33m)\u001b[0m\u001b[1;33m:\u001b[0m\u001b[1;33m\u001b[0m\u001b[0m\n",
      "\u001b[1;32mc:\\users\\gafed\\appdata\\local\\programs\\python\\python36\\lib\\site-packages\\selenium\\webdriver\\remote\\webdriver.py\u001b[0m in \u001b[0;36mexecute\u001b[1;34m(self, driver_command, params)\u001b[0m\n\u001b[0;32m    319\u001b[0m         \u001b[0mresponse\u001b[0m \u001b[1;33m=\u001b[0m \u001b[0mself\u001b[0m\u001b[1;33m.\u001b[0m\u001b[0mcommand_executor\u001b[0m\u001b[1;33m.\u001b[0m\u001b[0mexecute\u001b[0m\u001b[1;33m(\u001b[0m\u001b[0mdriver_command\u001b[0m\u001b[1;33m,\u001b[0m \u001b[0mparams\u001b[0m\u001b[1;33m)\u001b[0m\u001b[1;33m\u001b[0m\u001b[0m\n\u001b[0;32m    320\u001b[0m         \u001b[1;32mif\u001b[0m \u001b[0mresponse\u001b[0m\u001b[1;33m:\u001b[0m\u001b[1;33m\u001b[0m\u001b[0m\n\u001b[1;32m--> 321\u001b[1;33m             \u001b[0mself\u001b[0m\u001b[1;33m.\u001b[0m\u001b[0merror_handler\u001b[0m\u001b[1;33m.\u001b[0m\u001b[0mcheck_response\u001b[0m\u001b[1;33m(\u001b[0m\u001b[0mresponse\u001b[0m\u001b[1;33m)\u001b[0m\u001b[1;33m\u001b[0m\u001b[0m\n\u001b[0m\u001b[0;32m    322\u001b[0m             response['value'] = self._unwrap_value(\n\u001b[0;32m    323\u001b[0m                 response.get('value', None))\n",
      "\u001b[1;32mc:\\users\\gafed\\appdata\\local\\programs\\python\\python36\\lib\\site-packages\\selenium\\webdriver\\remote\\errorhandler.py\u001b[0m in \u001b[0;36mcheck_response\u001b[1;34m(self, response)\u001b[0m\n\u001b[0;32m    240\u001b[0m                 \u001b[0malert_text\u001b[0m \u001b[1;33m=\u001b[0m \u001b[0mvalue\u001b[0m\u001b[1;33m[\u001b[0m\u001b[1;34m'alert'\u001b[0m\u001b[1;33m]\u001b[0m\u001b[1;33m.\u001b[0m\u001b[0mget\u001b[0m\u001b[1;33m(\u001b[0m\u001b[1;34m'text'\u001b[0m\u001b[1;33m)\u001b[0m\u001b[1;33m\u001b[0m\u001b[0m\n\u001b[0;32m    241\u001b[0m             \u001b[1;32mraise\u001b[0m \u001b[0mexception_class\u001b[0m\u001b[1;33m(\u001b[0m\u001b[0mmessage\u001b[0m\u001b[1;33m,\u001b[0m \u001b[0mscreen\u001b[0m\u001b[1;33m,\u001b[0m \u001b[0mstacktrace\u001b[0m\u001b[1;33m,\u001b[0m \u001b[0malert_text\u001b[0m\u001b[1;33m)\u001b[0m\u001b[1;33m\u001b[0m\u001b[0m\n\u001b[1;32m--> 242\u001b[1;33m         \u001b[1;32mraise\u001b[0m \u001b[0mexception_class\u001b[0m\u001b[1;33m(\u001b[0m\u001b[0mmessage\u001b[0m\u001b[1;33m,\u001b[0m \u001b[0mscreen\u001b[0m\u001b[1;33m,\u001b[0m \u001b[0mstacktrace\u001b[0m\u001b[1;33m)\u001b[0m\u001b[1;33m\u001b[0m\u001b[0m\n\u001b[0m\u001b[0;32m    243\u001b[0m \u001b[1;33m\u001b[0m\u001b[0m\n\u001b[0;32m    244\u001b[0m     \u001b[1;32mdef\u001b[0m \u001b[0m_value_or_default\u001b[0m\u001b[1;33m(\u001b[0m\u001b[0mself\u001b[0m\u001b[1;33m,\u001b[0m \u001b[0mobj\u001b[0m\u001b[1;33m,\u001b[0m \u001b[0mkey\u001b[0m\u001b[1;33m,\u001b[0m \u001b[0mdefault\u001b[0m\u001b[1;33m)\u001b[0m\u001b[1;33m:\u001b[0m\u001b[1;33m\u001b[0m\u001b[0m\n",
      "\u001b[1;31mElementClickInterceptedException\u001b[0m: Message: element click intercepted: Element <a class=\" _65Bje  coreSpriteRightPaginationArrow\" tabindex=\"0\">...</a> is not clickable at point (1447, 462). Other element would receive the click: <div class=\"_7Tu5q\"></div>\n  (Session info: chrome=89.0.4389.128)\n"
     ]
    }
   ],
   "source": [
    "start_time = time.time()\n",
    "num = 100\n",
    "\n",
    "\n",
    "for i in range(num):\n",
    "    URL = driver.current_url\n",
    "    likes = get_amount_of_likes()\n",
    "    name = get_author()\n",
    "    subscribers = get_amount_of_subscribers()\n",
    "    tags = get_tags()\n",
    "    date = get_date()\n",
    "    df = df.append({'Picture URL': URL, 'Amount of likes': likes, 'Author name': name,\n",
    "        'Amount of subscribers': subscribers, 'Post tags': tags, 'Post date': date, 'Marker': 0}, ignore_index=True)\n",
    "    next_post()\n",
    "\n",
    "print(\"--- %s seconds ---\" % (time.time() - start_time))\n",
    "#10 sec"
   ]
  },
  {
   "cell_type": "code",
   "execution_count": 256,
   "metadata": {
    "scrolled": true
   },
   "outputs": [
    {
     "data": {
      "text/html": [
       "<div>\n",
       "<style scoped>\n",
       "    .dataframe tbody tr th:only-of-type {\n",
       "        vertical-align: middle;\n",
       "    }\n",
       "\n",
       "    .dataframe tbody tr th {\n",
       "        vertical-align: top;\n",
       "    }\n",
       "\n",
       "    .dataframe thead th {\n",
       "        text-align: right;\n",
       "    }\n",
       "</style>\n",
       "<table border=\"1\" class=\"dataframe\">\n",
       "  <thead>\n",
       "    <tr style=\"text-align: right;\">\n",
       "      <th></th>\n",
       "      <th>Picture URL</th>\n",
       "      <th>Amount of likes</th>\n",
       "      <th>Author name</th>\n",
       "      <th>Amount of subscribers</th>\n",
       "      <th>Post tags</th>\n",
       "      <th>Post date</th>\n",
       "      <th>Download URL</th>\n",
       "      <th>Marker</th>\n",
       "    </tr>\n",
       "  </thead>\n",
       "  <tbody>\n",
       "    <tr>\n",
       "      <th>0</th>\n",
       "      <td>https://www.instagram.com/p/CNzB0PHj-fW/</td>\n",
       "      <td>1 598</td>\n",
       "      <td>_ghyun__</td>\n",
       "      <td>263 434</td>\n",
       "      <td>[]</td>\n",
       "      <td>2021-04-18T06:30:44.000Z</td>\n",
       "      <td>https://scontent-arn2-1.cdninstagram.com/v/t51...</td>\n",
       "      <td>1</td>\n",
       "    </tr>\n",
       "    <tr>\n",
       "      <th>1</th>\n",
       "      <td>https://www.instagram.com/p/CNzI3m9MNxO/</td>\n",
       "      <td>108</td>\n",
       "      <td>romina_stanescu</td>\n",
       "      <td>1 388</td>\n",
       "      <td>[#morningselfie, #morningmood, #selfie]</td>\n",
       "      <td>2021-04-18T07:32:21.000Z</td>\n",
       "      <td>https://scontent-arn2-1.cdninstagram.com/v/t51...</td>\n",
       "      <td>1</td>\n",
       "    </tr>\n",
       "    <tr>\n",
       "      <th>2</th>\n",
       "      <td>https://www.instagram.com/p/CNzCpoGn1_U/</td>\n",
       "      <td>1 113</td>\n",
       "      <td>hyo._.jin23</td>\n",
       "      <td>63 116</td>\n",
       "      <td>[#네이밍미, #올리비엣스퀘어드레스]</td>\n",
       "      <td>2021-04-18T06:38:01.000Z</td>\n",
       "      <td>https://scontent-arn2-2.cdninstagram.com/v/t51...</td>\n",
       "      <td>1</td>\n",
       "    </tr>\n",
       "    <tr>\n",
       "      <th>3</th>\n",
       "      <td>https://www.instagram.com/p/CNzKR83HAvI/</td>\n",
       "      <td>786</td>\n",
       "      <td>yeonions</td>\n",
       "      <td>299 898</td>\n",
       "      <td>[#fromo, #남자스니커즈, #여자스니커즈, #화이트스니커즈, #커플스니커즈, ...</td>\n",
       "      <td>2021-04-18T07:44:42.000Z</td>\n",
       "      <td>https://scontent-arn2-1.cdninstagram.com/v/t51...</td>\n",
       "      <td>0</td>\n",
       "    </tr>\n",
       "    <tr>\n",
       "      <th>4</th>\n",
       "      <td>https://www.instagram.com/p/CNzK_5JB4PY/</td>\n",
       "      <td>129</td>\n",
       "      <td>kengjjang1</td>\n",
       "      <td>4 283</td>\n",
       "      <td>[#울릉도, #독도, #성인봉, #독도에갇힌행복한섬처녀다, #이야호, #등산, #등...</td>\n",
       "      <td>2021-04-18T07:50:58.000Z</td>\n",
       "      <td>https://scontent-arn2-2.cdninstagram.com/v/t51...</td>\n",
       "      <td>1</td>\n",
       "    </tr>\n",
       "    <tr>\n",
       "      <th>...</th>\n",
       "      <td>...</td>\n",
       "      <td>...</td>\n",
       "      <td>...</td>\n",
       "      <td>...</td>\n",
       "      <td>...</td>\n",
       "      <td>...</td>\n",
       "      <td>...</td>\n",
       "      <td>...</td>\n",
       "    </tr>\n",
       "    <tr>\n",
       "      <th>59</th>\n",
       "      <td>https://www.instagram.com/p/CHotCfZHZJ4/</td>\n",
       "      <td>97</td>\n",
       "      <td>dodamidodami_</td>\n",
       "      <td>601</td>\n",
       "      <td>[#월요병, #꿀잠, #멍, #강아지, #반려견, #반려동물, #멍멍이, #댕댕이,...</td>\n",
       "      <td>2020-11-16T03:08:24.000Z</td>\n",
       "      <td>https://scontent-arn2-1.cdninstagram.com/v/t51...</td>\n",
       "      <td>0</td>\n",
       "    </tr>\n",
       "    <tr>\n",
       "      <th>60</th>\n",
       "      <td>https://www.instagram.com/p/CNzOiwEF-6R/</td>\n",
       "      <td>3</td>\n",
       "      <td>mehmetnzrr</td>\n",
       "      <td>101</td>\n",
       "      <td>[#selfie, #work, #tbt]</td>\n",
       "      <td>2021-04-18T08:21:56.000Z</td>\n",
       "      <td>https://scontent-arn2-1.cdninstagram.com/v/t51...</td>\n",
       "      <td>0</td>\n",
       "    </tr>\n",
       "    <tr>\n",
       "      <th>61</th>\n",
       "      <td>https://www.instagram.com/p/CNzOixCBgcX/</td>\n",
       "      <td>19</td>\n",
       "      <td>yu._jung_</td>\n",
       "      <td>276</td>\n",
       "      <td>[#럽스타그램, #20210417]</td>\n",
       "      <td>2021-04-18T08:21:56.000Z</td>\n",
       "      <td>https://scontent-arn2-1.cdninstagram.com/v/t51...</td>\n",
       "      <td>0</td>\n",
       "    </tr>\n",
       "    <tr>\n",
       "      <th>62</th>\n",
       "      <td>https://www.instagram.com/p/CNzOivmDg4r/</td>\n",
       "      <td>3</td>\n",
       "      <td>oye_its_me_nilesh</td>\n",
       "      <td>102</td>\n",
       "      <td>[#photooftheday, #instagood, #nofilter, #tbt, ...</td>\n",
       "      <td>2021-04-18T08:21:56.000Z</td>\n",
       "      <td>https://scontent-arn2-1.cdninstagram.com/v/t51...</td>\n",
       "      <td>0</td>\n",
       "    </tr>\n",
       "    <tr>\n",
       "      <th>63</th>\n",
       "      <td>https://www.instagram.com/p/CNzOik7nsrd/</td>\n",
       "      <td>17</td>\n",
       "      <td>rika_miama</td>\n",
       "      <td>2 515</td>\n",
       "      <td>[#model, #selfie, #love, #beauty, #glam, #性感内衣...</td>\n",
       "      <td>2021-04-18T08:21:55.000Z</td>\n",
       "      <td>https://scontent-arn2-2.cdninstagram.com/v/t51...</td>\n",
       "      <td>0</td>\n",
       "    </tr>\n",
       "  </tbody>\n",
       "</table>\n",
       "<p>64 rows × 8 columns</p>\n",
       "</div>"
      ],
      "text/plain": [
       "                                 Picture URL Amount of likes  \\\n",
       "0   https://www.instagram.com/p/CNzB0PHj-fW/           1 598   \n",
       "1   https://www.instagram.com/p/CNzI3m9MNxO/             108   \n",
       "2   https://www.instagram.com/p/CNzCpoGn1_U/           1 113   \n",
       "3   https://www.instagram.com/p/CNzKR83HAvI/             786   \n",
       "4   https://www.instagram.com/p/CNzK_5JB4PY/             129   \n",
       "..                                       ...             ...   \n",
       "59  https://www.instagram.com/p/CHotCfZHZJ4/              97   \n",
       "60  https://www.instagram.com/p/CNzOiwEF-6R/               3   \n",
       "61  https://www.instagram.com/p/CNzOixCBgcX/              19   \n",
       "62  https://www.instagram.com/p/CNzOivmDg4r/               3   \n",
       "63  https://www.instagram.com/p/CNzOik7nsrd/              17   \n",
       "\n",
       "          Author name Amount of subscribers  \\\n",
       "0            _ghyun__               263 434   \n",
       "1     romina_stanescu                 1 388   \n",
       "2         hyo._.jin23                63 116   \n",
       "3            yeonions               299 898   \n",
       "4          kengjjang1                 4 283   \n",
       "..                ...                   ...   \n",
       "59      dodamidodami_                   601   \n",
       "60         mehmetnzrr                   101   \n",
       "61          yu._jung_                   276   \n",
       "62  oye_its_me_nilesh                   102   \n",
       "63         rika_miama                 2 515   \n",
       "\n",
       "                                            Post tags  \\\n",
       "0                                                  []   \n",
       "1             [#morningselfie, #morningmood, #selfie]   \n",
       "2                                [#네이밍미, #올리비엣스퀘어드레스]   \n",
       "3   [#fromo, #남자스니커즈, #여자스니커즈, #화이트스니커즈, #커플스니커즈, ...   \n",
       "4   [#울릉도, #독도, #성인봉, #독도에갇힌행복한섬처녀다, #이야호, #등산, #등...   \n",
       "..                                                ...   \n",
       "59  [#월요병, #꿀잠, #멍, #강아지, #반려견, #반려동물, #멍멍이, #댕댕이,...   \n",
       "60                             [#selfie, #work, #tbt]   \n",
       "61                                [#럽스타그램, #20210417]   \n",
       "62  [#photooftheday, #instagood, #nofilter, #tbt, ...   \n",
       "63  [#model, #selfie, #love, #beauty, #glam, #性感内衣...   \n",
       "\n",
       "                   Post date  \\\n",
       "0   2021-04-18T06:30:44.000Z   \n",
       "1   2021-04-18T07:32:21.000Z   \n",
       "2   2021-04-18T06:38:01.000Z   \n",
       "3   2021-04-18T07:44:42.000Z   \n",
       "4   2021-04-18T07:50:58.000Z   \n",
       "..                       ...   \n",
       "59  2020-11-16T03:08:24.000Z   \n",
       "60  2021-04-18T08:21:56.000Z   \n",
       "61  2021-04-18T08:21:56.000Z   \n",
       "62  2021-04-18T08:21:56.000Z   \n",
       "63  2021-04-18T08:21:55.000Z   \n",
       "\n",
       "                                         Download URL Marker  \n",
       "0   https://scontent-arn2-1.cdninstagram.com/v/t51...      1  \n",
       "1   https://scontent-arn2-1.cdninstagram.com/v/t51...      1  \n",
       "2   https://scontent-arn2-2.cdninstagram.com/v/t51...      1  \n",
       "3   https://scontent-arn2-1.cdninstagram.com/v/t51...      0  \n",
       "4   https://scontent-arn2-2.cdninstagram.com/v/t51...      1  \n",
       "..                                                ...    ...  \n",
       "59  https://scontent-arn2-1.cdninstagram.com/v/t51...      0  \n",
       "60  https://scontent-arn2-1.cdninstagram.com/v/t51...      0  \n",
       "61  https://scontent-arn2-1.cdninstagram.com/v/t51...      0  \n",
       "62  https://scontent-arn2-1.cdninstagram.com/v/t51...      0  \n",
       "63  https://scontent-arn2-2.cdninstagram.com/v/t51...      0  \n",
       "\n",
       "[64 rows x 8 columns]"
      ]
     },
     "execution_count": 256,
     "metadata": {},
     "output_type": "execute_result"
    }
   ],
   "source": [
    "df\n"
   ]
  },
  {
   "cell_type": "code",
   "execution_count": 255,
   "metadata": {},
   "outputs": [
    {
     "name": "stdout",
     "output_type": "stream",
     "text": [
      "--- 137.49945449829102 seconds ---\n"
     ]
    }
   ],
   "source": [
    "start_time = time.time()\n",
    "for i in range(len(df)):    \n",
    "    df['Download URL'][i] = find_post(df['Picture URL'][i])\n",
    "print(\"--- %s seconds ---\" % (time.time() - start_time))"
   ]
  },
  {
   "cell_type": "code",
   "execution_count": 257,
   "metadata": {},
   "outputs": [
    {
     "name": "stdout",
     "output_type": "stream",
     "text": [
      "100% [............................................................................] 131681 / 131681--- 10.321398496627808 seconds ---\n"
     ]
    }
   ],
   "source": [
    "start_time = time.time()\n",
    "for i in range(len(df)):\n",
    "    save_picture(i)\n",
    "print(\"--- %s seconds ---\" % (time.time() - start_time))"
   ]
  },
  {
   "cell_type": "code",
   "execution_count": 214,
   "metadata": {},
   "outputs": [
    {
     "name": "stdout",
     "output_type": "stream",
     "text": [
      "100% [............................................................................] 203939 / 203939"
     ]
    }
   ],
   "source": [
    "for i in range(len(df)):\n",
    "    save_picture(i)"
   ]
  },
  {
   "cell_type": "code",
   "execution_count": null,
   "metadata": {},
   "outputs": [],
   "source": [
    "# emulate click on a likes button\n",
    "#driver.execute_script('''document.getElementsByClassName('Nm9Fw')[0].lastElementChild.click()''')\n",
    "\n",
    "# scroll down by 4000px to load more users who liked the post\n",
    "#driver.execute_script('''document.getElementsByClassName('Igw0E IwRSH eGOV_ vwCYk i0EQd')[0].firstChild.scrollBy(0, 4000);''')\n",
    "#time.sleep(0.2)\n",
    "\n",
    "# collect usernames\n",
    "#usernames = driver.execute_script('''return document.getElementsByClassName('_7UhW9 xLCgt MMzan KV-D4 fDxYl');''')\n",
    "\n",
    "# each username sits inside of a div, so to get actual username we can use .get_attribute() method\n",
    "#usernames[0].get_attribute('innerText')"
   ]
  },
  {
   "cell_type": "code",
   "execution_count": null,
   "metadata": {},
   "outputs": [],
   "source": [
    "#https://stackoverflow.com/questions/52012145/like-instagram-photo-with-selenium-python\n",
    "#проверка на видео\n",
    "#чем просто скачивание отличается от scontent-arn2-\n",
    "# хэштеги\n",
    "# среднее число лайков?\n"
   ]
  }
 ],
 "metadata": {
  "kernelspec": {
   "display_name": "Python 3",
   "language": "python",
   "name": "python3"
  },
  "language_info": {
   "codemirror_mode": {
    "name": "ipython",
    "version": 3
   },
   "file_extension": ".py",
   "mimetype": "text/x-python",
   "name": "python",
   "nbconvert_exporter": "python",
   "pygments_lexer": "ipython3",
   "version": "3.6.5"
  }
 },
 "nbformat": 4,
 "nbformat_minor": 4
}
